{
 "cells": [
  {
   "cell_type": "code",
   "execution_count": 23,
   "metadata": {
    "collapsed": true
   },
   "outputs": [],
   "source": [
    "import pandas as pd\n",
    "import matplotlib.pyplot as plt\n",
    "import numpy as np\n",
    "\n",
    "import matplotlib\n",
    "matplotlib.style.use('ggplot')\n",
    "import matplotlib.lines as mlines\n",
    "import matplotlib.gridspec as gridspec"
   ]
  },
  {
   "cell_type": "code",
   "execution_count": 2,
   "metadata": {
    "collapsed": false
   },
   "outputs": [],
   "source": [
    "arts_gpa = pd.read_csv(\"arts_gpa.csv\");\n",
    "biology_gpa = pd.read_csv(\"biology_gpa.csv\");\n",
    "engineering_gpa = pd.read_csv(\"engineering_gpa.csv\");\n",
    "socscience_gpa = pd.read_csv(\"social_science_gpa.csv\");\n",
    "humanities_gpa = pd.read_csv(\"humanities_gpa.csv\");\n",
    "science_math_gpa = pd.read_csv(\"science_math_gpa.csv\");"
   ]
  },
  {
   "cell_type": "code",
   "execution_count": 3,
   "metadata": {
    "collapsed": false,
    "scrolled": true
   },
   "outputs": [],
   "source": [
    "#formatting gpa dataframe for graph\n",
    "arts_gpa = arts_gpa.set_index('Undergraduates')\n",
    "arts_gpa = arts_gpa.T #transposing graph\n",
    "arts_gpa1 = arts_gpa.iloc[:,1:] #percentages\n",
    "parts_gpa = arts_gpa.iloc[:,0] #mean"
   ]
  },
  {
   "cell_type": "code",
   "execution_count": 31,
   "metadata": {
    "collapsed": false
   },
   "outputs": [],
   "source": [
    "#graph\n",
    "fig, axes = plt.subplots(sharex=True, nrows=2, ncols=1) #set subplot axes\n",
    "parts_gpa.plot(ax=axes[0], title=\"Mean GPA\")\n",
    "arts_gpa1.plot.bar(stacked=True, ax=axes[1], title=\"GPA Percentage\") #stacked bar graph\n",
    "#NOTE: need to add y-label for mean GPA graph \n",
    "plt.xlabel(\"Years\")\n",
    "plt.ylabel(\"Percentage\")\n",
    "\n",
    "plt.legend(bbox_to_anchor=(1.05, 1), loc=2, borderaxespad=0.)\n",
    "plt.show()"
   ]
  }
 ],
 "metadata": {
  "anaconda-cloud": {},
  "kernelspec": {
   "display_name": "Python [Root]",
   "language": "python",
   "name": "Python [Root]"
  },
  "language_info": {
   "codemirror_mode": {
    "name": "ipython",
    "version": 3
   },
   "file_extension": ".py",
   "mimetype": "text/x-python",
   "name": "python",
   "nbconvert_exporter": "python",
   "pygments_lexer": "ipython3",
   "version": "3.5.2"
  }
 },
 "nbformat": 4,
 "nbformat_minor": 0
}
